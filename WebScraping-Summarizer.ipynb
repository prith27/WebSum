{
 "cells": [
  {
   "cell_type": "code",
   "execution_count": 18,
   "id": "472222c3-aa0e-4c06-842f-d7bdf207dcd3",
   "metadata": {},
   "outputs": [],
   "source": [
    "# imports\n",
    "\n",
    "import os\n",
    "import requests\n",
    "from dotenv import load_dotenv\n",
    "from bs4 import BeautifulSoup\n",
    "from IPython.display import Markdown, display\n",
    "from openai import OpenAI"
   ]
  },
  {
   "cell_type": "code",
   "execution_count": 2,
   "id": "3358f8f8-cfab-4afd-a4ae-0ed4aed09da0",
   "metadata": {},
   "outputs": [],
   "source": [
    "# Load environment variables in a file called .env\n",
    "\n",
    "load_dotenv(override=True)\n",
    "api_key = os.getenv('OPENAI_API_KEY')"
   ]
  },
  {
   "cell_type": "code",
   "execution_count": 19,
   "id": "475be687-d2a4-4602-a9fc-26d0dcc394bd",
   "metadata": {},
   "outputs": [],
   "source": [
    "openai = OpenAI()"
   ]
  },
  {
   "cell_type": "code",
   "execution_count": 20,
   "id": "b18cc260-c473-42b4-8d9c-daa6022c579d",
   "metadata": {},
   "outputs": [],
   "source": [
    "###NOTE: Below does not work on JS activated website, that will work only with selenium :)"
   ]
  },
  {
   "cell_type": "code",
   "execution_count": 21,
   "id": "3f703c47-d14a-4867-8ee1-82be56ccf823",
   "metadata": {},
   "outputs": [],
   "source": [
    "headers = {\n",
    " \"User-Agent\": \"Mozilla/5.0 (Windows NT 10.0; Win64; x64) AppleWebKit/537.36 (KHTML, like Gecko) Chrome/117.0.0.0 Safari/537.36\"\n",
    "}\n",
    "\n",
    "class Website:\n",
    "\n",
    "    def __init__(self, url):\n",
    "        \"\"\"\n",
    "        Create this Website object from the given url using the BeautifulSoup library\n",
    "        \"\"\"\n",
    "        self.url = url\n",
    "        response = requests.get(url, headers=headers)\n",
    "        soup = BeautifulSoup(response.content, 'html.parser')\n",
    "        self.title = soup.title.string if soup.title else \"No title found\"\n",
    "        for irrelevant in soup.body([\"script\", \"style\", \"img\", \"input\"]):\n",
    "            irrelevant.decompose()\n",
    "        self.text = soup.body.get_text(separator=\"\\n\", strip=True)"
   ]
  },
  {
   "cell_type": "code",
   "execution_count": 22,
   "id": "07eea209-19e4-4023-bc56-e908ad75382e",
   "metadata": {},
   "outputs": [
    {
     "name": "stdout",
     "output_type": "stream",
     "text": [
      "Prithvi Seshadri\n",
      "Prithvi Seshadri\n",
      "Data Scientist\n",
      "Show Contacts\n",
      "Email\n",
      "prithvi.seshadri01@gmail.com\n",
      "Phone\n",
      "+91 9940654174\n",
      "Birthday\n",
      "Sept 27, 2001\n",
      "Location\n",
      "Chennai, Tamil Nadu, India\n",
      "About\n",
      "Resume\n",
      "Blog\n",
      "Contact\n",
      "About me\n",
      "Hey there! I'm a Data Scientist at Shell, born in the BBQ haven of Houston, Texas, but currently rocking it in Chennai, India. By day, I wrangle data and deploy cutting-edge ML & DL algorithms to solve Shell’s asset-based mysteries with end-to-end CI/CD pipelines, saving the company millions.\n",
      "When I’m not crunching numbers, you'll find me on the football field. I've played Division 1 football and represented my school in national competitions, winning numerous local tournaments along the way.\n",
      "On the nerdy side, I love diving into data science research and have proudly published three papers in the field. Footballer by day, data scientist by... well, also by day. Welcome to my world!\n",
      "What I do\n",
      "Data Science\n",
      "Leveraging data to uncover patterns and developing advanced machine learning and deep learning solutions.\n",
      "Artificial Intelligence\n",
      "AI enthusiast with research experience in AI algorithms and large language models (LLMs).\n",
      "MLOps\n",
      "Professional development of MLOps CI/CD pipelines utilizing Azure and GitHub Actions.\n",
      "Football\n",
      "Passionate football enthusiast and Manchester United supporter, with experience playing Division 1 football in Chennai.\n",
      "Resume\n",
      "Education\n",
      "Vellore Institute of Technology\n",
      "2019 — 2023\n",
      "Graduated with a BTech in Computer Science, specializing in AI and ML, with a CGPA of 9.16/10. Conducted research in AI and ML, publishing three research papers. Played for the college football team, winning several inter-college tournaments.\n",
      "DAV Public School\n",
      "2017 — 2019\n",
      "Secured 96.2% (481/500) in the CBSE AISSCE examinations, ranking third in the computer science department. Led the school football team as captain, representing the school in national-level tournaments and winning multiple local football tournaments.\n",
      "Experience\n",
      "Data Scientist @ Shell\n",
      "Aug 2023 — Present\n",
      "Designed and implemented fully automated CI/CD pipelines on Azure, specializing in deploying advanced Machine Learning and Deep Learning algorithms. Tackled complex challenges unique to Shell's assets, achieving approximately $9 million in savings through predictive maintenance models.\n",
      "Data Analyst Intern @ Acies Global\n",
      "May 2022 — Jun 2022\n",
      "Analyzed global market trends to forecast sales and profit fluctuations. Collaborated with clients to rectify missing sales data across various regions. Utilized Amperity and Snowflake for efficient data extraction and analysis.\n",
      "My skills\n",
      "Machine Learning and Deep Learning\n",
      "90%\n",
      "MLOps\n",
      "90%\n",
      "Data Modeling and Analysis\n",
      "90%\n",
      "Artificial Intelligence\n",
      "85%\n",
      "Publications & Blogs\n",
      "Computer Vision\n",
      "Nov 18, 2023\n",
      "Hand Detection and Morse Code Translation for Alternative Communication\n",
      "IEEE International Conference on System, Computation, Automation and Networking (ICSCAN)\n",
      "ML & DL\n",
      "Jun 2, 2022\n",
      "Detection of Phishing URLs Using Machine Learning and Deep Learning Models Implementing a URL Feature Extractor\n",
      "Evolution and Applications of Quantum Computing, Scrivener Publishing LLC\n",
      "Computer Vision\n",
      "Feb 24, 2023\n",
      "A Beginner’s Guide to Training a YOLOv5 Object Detection Model\n",
      "Medium.com\n",
      "Computer Vision\n",
      "Feb 20, 2023\n",
      "Building Accurate Object Detection Models with RetinaNet: A Comprehensive Step-by-Step Guide\n",
      "Medium.com\n",
      "AI & DL\n",
      "Nov 24, 2021\n",
      "Web Based COVID Detection System using Deep Learning\n",
      "Journal of Physics: Conference Series, IOP Science\n",
      "Contact\n",
      "Contact Form\n",
      "Send Message\n"
     ]
    }
   ],
   "source": [
    "##Testing Beautifulsoup on my website lol\n",
    "ps = Website(\"https://prith27.github.io/\")\n",
    "print(ps.title)\n",
    "print(ps.text)"
   ]
  },
  {
   "cell_type": "code",
   "execution_count": 23,
   "id": "b1b2d49b-40ee-46db-9c91-eaf599c569a1",
   "metadata": {},
   "outputs": [],
   "source": [
    "##Creating user and system prompts\n",
    "system_prompt = \"You are an assistant that analyzes the contents of a website \\\n",
    "and provides a short summary, ignoring text that might be navigation related. \\\n",
    "Respond in markdown.\"\n",
    "\n",
    "def user_prompt_for(website):\n",
    "    user_prompt = f\"You are looking at a website titled {website.title}\"\n",
    "    user_prompt += \"\\nThe contents of this website is as follows; \\\n",
    "please provide a short summary of this website in markdown. \\\n",
    "If it includes news or announcements, then summarize these too.\\n\\n\"\n",
    "    user_prompt += website.text\n",
    "    return user_prompt"
   ]
  },
  {
   "cell_type": "code",
   "execution_count": 24,
   "id": "8bc22ab9-a358-41d9-8b88-4331cd6b6e81",
   "metadata": {},
   "outputs": [],
   "source": [
    "##Func for roles to model \n",
    "def messages_for(website):\n",
    "    return [\n",
    "        {\"role\": \"system\", \"content\": system_prompt},\n",
    "        {\"role\": \"user\", \"content\": user_prompt_for(website)}\n",
    "    ]"
   ]
  },
  {
   "cell_type": "code",
   "execution_count": 25,
   "id": "53d32cff-207d-4078-90c5-dce9ad41e0f9",
   "metadata": {},
   "outputs": [
    {
     "data": {
      "text/plain": [
       "[{'role': 'system',\n",
       "  'content': 'You are an assistant that analyzes the contents of a website and provides a short summary, ignoring text that might be navigation related. Respond in markdown.'},\n",
       " {'role': 'user',\n",
       "  'content': \"You are looking at a website titled Prithvi Seshadri\\nThe contents of this website is as follows; please provide a short summary of this website in markdown. If it includes news or announcements, then summarize these too.\\n\\nPrithvi Seshadri\\nData Scientist\\nShow Contacts\\nEmail\\nprithvi.seshadri01@gmail.com\\nPhone\\n+91 9940654174\\nBirthday\\nSept 27, 2001\\nLocation\\nChennai, Tamil Nadu, India\\nAbout\\nResume\\nBlog\\nContact\\nAbout me\\nHey there! I'm a Data Scientist at Shell, born in the BBQ haven of Houston, Texas, but currently rocking it in Chennai, India. By day, I wrangle data and deploy cutting-edge ML & DL algorithms to solve Shell’s asset-based mysteries with end-to-end CI/CD pipelines, saving the company millions.\\nWhen I’m not crunching numbers, you'll find me on the football field. I've played Division 1 football and represented my school in national competitions, winning numerous local tournaments along the way.\\nOn the nerdy side, I love diving into data science research and have proudly published three papers in the field. Footballer by day, data scientist by... well, also by day. Welcome to my world!\\nWhat I do\\nData Science\\nLeveraging data to uncover patterns and developing advanced machine learning and deep learning solutions.\\nArtificial Intelligence\\nAI enthusiast with research experience in AI algorithms and large language models (LLMs).\\nMLOps\\nProfessional development of MLOps CI/CD pipelines utilizing Azure and GitHub Actions.\\nFootball\\nPassionate football enthusiast and Manchester United supporter, with experience playing Division 1 football in Chennai.\\nResume\\nEducation\\nVellore Institute of Technology\\n2019 — 2023\\nGraduated with a BTech in Computer Science, specializing in AI and ML, with a CGPA of 9.16/10. Conducted research in AI and ML, publishing three research papers. Played for the college football team, winning several inter-college tournaments.\\nDAV Public School\\n2017 — 2019\\nSecured 96.2% (481/500) in the CBSE AISSCE examinations, ranking third in the computer science department. Led the school football team as captain, representing the school in national-level tournaments and winning multiple local football tournaments.\\nExperience\\nData Scientist @ Shell\\nAug 2023 — Present\\nDesigned and implemented fully automated CI/CD pipelines on Azure, specializing in deploying advanced Machine Learning and Deep Learning algorithms. Tackled complex challenges unique to Shell's assets, achieving approximately $9 million in savings through predictive maintenance models.\\nData Analyst Intern @ Acies Global\\nMay 2022 — Jun 2022\\nAnalyzed global market trends to forecast sales and profit fluctuations. Collaborated with clients to rectify missing sales data across various regions. Utilized Amperity and Snowflake for efficient data extraction and analysis.\\nMy skills\\nMachine Learning and Deep Learning\\n90%\\nMLOps\\n90%\\nData Modeling and Analysis\\n90%\\nArtificial Intelligence\\n85%\\nPublications & Blogs\\nComputer Vision\\nNov 18, 2023\\nHand Detection and Morse Code Translation for Alternative Communication\\nIEEE International Conference on System, Computation, Automation and Networking (ICSCAN)\\nML & DL\\nJun 2, 2022\\nDetection of Phishing URLs Using Machine Learning and Deep Learning Models Implementing a URL Feature Extractor\\nEvolution and Applications of Quantum Computing, Scrivener Publishing LLC\\nComputer Vision\\nFeb 24, 2023\\nA Beginner’s Guide to Training a YOLOv5 Object Detection Model\\nMedium.com\\nComputer Vision\\nFeb 20, 2023\\nBuilding Accurate Object Detection Models with RetinaNet: A Comprehensive Step-by-Step Guide\\nMedium.com\\nAI & DL\\nNov 24, 2021\\nWeb Based COVID Detection System using Deep Learning\\nJournal of Physics: Conference Series, IOP Science\\nContact\\nContact Form\\nSend Message\"}]"
      ]
     },
     "execution_count": 25,
     "metadata": {},
     "output_type": "execute_result"
    }
   ],
   "source": [
    "##TEsting role function\n",
    "messages_for(ps)"
   ]
  },
  {
   "cell_type": "code",
   "execution_count": 26,
   "id": "1a53b7ee-834a-4111-ba9a-1e2beeeadfc9",
   "metadata": {},
   "outputs": [],
   "source": [
    "def summarize(url):\n",
    "    website = Website(url)\n",
    "    response = openai.chat.completions.create(\n",
    "        model = \"gpt-4o-mini\",\n",
    "        messages = messages_for(website)\n",
    "    )\n",
    "    return response.choices[0].message.content"
   ]
  },
  {
   "cell_type": "code",
   "execution_count": 27,
   "id": "7e53b7f5-c9d7-44e6-afdb-738373f22a44",
   "metadata": {},
   "outputs": [
    {
     "data": {
      "text/plain": [
       "'# Summary of Prithvi Seshadri\\'s Website\\n\\nPrithvi Seshadri is a Data Scientist at Shell, currently based in Chennai, India. Originally from Houston, Texas, he specializes in machine learning and deep learning, focusing on deploying CI/CD pipelines to solve complex problems and save significant costs for his company. Besides his professional work, Prithvi is an avid football player and supporter of Manchester United, with a background in competitive sports.\\n\\n## Professional Overview\\n- **Current Position**: Data Scientist at Shell (Aug 2023 - Present)\\n  - Developed CI/CD pipelines on Azure, focusing on predictive maintenance models leading to savings of approximately $9 million.\\n- **Previous Experience**: Data Analyst Intern at Acies Global (May 2022 - Jun 2022)\\n\\n## Education\\n- **BTech in Computer Science**: Vellore Institute of Technology (2019 - 2023), specializing in AI and ML.\\n- **High School**: DAV Public School, where he ranked third in his computer science department.\\n\\n## Skills\\n- Machine Learning and Deep Learning: 90%\\n- MLOps: 90%\\n- Data Modeling and Analysis: 90%\\n- Artificial Intelligence: 85%\\n\\n## Publications\\n1. **\"Hand Detection and Morse Code Translation for Alternative Communication\"**\\n   - Published at the IEEE International Conference on System, Computation, Automation and Networking (ICSCAN) on Nov 18, 2023.\\n\\n2. **\"Detection of Phishing URLs Using Machine Learning and Deep Learning Models\"**\\n   - Published in \"Evolution and Applications of Quantum Computing\" on Jun 2, 2022.\\n\\n3. **Various articles on Medium** regarding computer vision and AI, including guides on object detection models.\\n\\n## Personal Interests\\n- Keen interest in data science research, having published three papers.\\n- Passion for football, participating in college tournaments and previously leading his school team.\\n\\nFor further contact, his email and phone number are provided on the website.'"
      ]
     },
     "execution_count": 27,
     "metadata": {},
     "output_type": "execute_result"
    }
   ],
   "source": [
    "summarize(\"https://prith27.github.io/\")"
   ]
  },
  {
   "cell_type": "code",
   "execution_count": 28,
   "id": "bd18f85b-8bf8-41c7-88a0-563fb3d70162",
   "metadata": {},
   "outputs": [],
   "source": [
    "##Better display\n",
    "def display_summary(url):\n",
    "    summary = summarize(url)\n",
    "    display(Markdown(summary))"
   ]
  },
  {
   "cell_type": "code",
   "execution_count": 29,
   "id": "50dbfddf-73be-4c05-8ede-324a6047c90e",
   "metadata": {},
   "outputs": [
    {
     "data": {
      "text/markdown": [
       "# Prithvi Seshadri\n",
       "\n",
       "**Profession**: Data Scientist  \n",
       "**Current Employer**: Shell  \n",
       "**Location**: Chennai, Tamil Nadu, India  \n",
       "**Email**: [prithvi.seshadri01@gmail.com](mailto:prithvi.seshadri01@gmail.com)  \n",
       "**Phone**: +91 9940654174  \n",
       "**Birthday**: September 27, 2001  \n",
       "\n",
       "## About Me\n",
       "Prithvi Seshadri is a data scientist with a strong background in machine learning (ML) and deep learning (DL). Originally from Houston, Texas, he currently works at Shell, where he develops ML and DL algorithms to improve operational efficiencies, generating substantial cost savings. Outside of his professional life, Prithvi is also an avid football player and enthusiast, previously competing at a Division 1 level.\n",
       "\n",
       "## Education\n",
       "- **BTech in Computer Science**  \n",
       "  **Institution**: Vellore Institute of Technology  \n",
       "  **Years**: 2019 — 2023  \n",
       "  **CGPA**: 9.16/10  \n",
       "- **CBSE AISSCE**  \n",
       "  **Institution**: DAV Public School  \n",
       "  **Years**: 2017 — 2019  \n",
       "  **Score**: 96.2%\n",
       "\n",
       "## Experience\n",
       "- **Data Scientist @ Shell** (Aug 2023 — Present)  \n",
       "  Developed automated CI/CD pipelines and designed predictive maintenance models that resulted in significant savings for the company.\n",
       "  \n",
       "- **Data Analyst Intern @ Acies Global** (May 2022 — Jun 2022)  \n",
       "  Analyzed market trends and collaborated with clients to enhance sales data accuracy.\n",
       "\n",
       "## Skills\n",
       "- Machine Learning and Deep Learning: 90%\n",
       "- MLOps: 90%\n",
       "- Data Modeling and Analysis: 90%\n",
       "- Artificial Intelligence: 85%\n",
       "\n",
       "## Publications\n",
       "1. **Hand Detection and Morse Code Translation for Alternative Communication** - IEEE International Conference on System, Computation, Automation and Networking (ICSCAN), Nov 18, 2023\n",
       "2. **Detection of Phishing URLs Using Machine Learning and Deep Learning Models** - Evolution and Applications of Quantum Computing, Jun 2, 2022\n",
       "3. **A Beginner’s Guide to Training a YOLOv5 Object Detection Model** - Medium.com, Feb 24, 2023\n",
       "4. **Building Accurate Object Detection Models with RetinaNet** - Medium.com, Feb 20, 2023\n",
       "5. **Web Based COVID Detection System using Deep Learning** - Journal of Physics: Conference Series, Nov 24, 2021\n",
       "\n",
       "## Conclusion\n",
       "Prithvi Seshadri blends a passion for football with a successful career in data science, showcasing his skills through impactful projects and significant academic achievement."
      ],
      "text/plain": [
       "<IPython.core.display.Markdown object>"
      ]
     },
     "metadata": {},
     "output_type": "display_data"
    }
   ],
   "source": [
    "display_summary(\"https://prith27.github.io/\")"
   ]
  }
 ],
 "metadata": {
  "kernelspec": {
   "display_name": "Python 3 (ipykernel)",
   "language": "python",
   "name": "python3"
  },
  "language_info": {
   "codemirror_mode": {
    "name": "ipython",
    "version": 3
   },
   "file_extension": ".py",
   "mimetype": "text/x-python",
   "name": "python",
   "nbconvert_exporter": "python",
   "pygments_lexer": "ipython3",
   "version": "3.10.9"
  }
 },
 "nbformat": 4,
 "nbformat_minor": 5
}
